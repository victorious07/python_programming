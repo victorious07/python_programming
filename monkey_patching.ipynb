{
  "nbformat": 4,
  "nbformat_minor": 0,
  "metadata": {
    "colab": {
      "name": "monkey_patching.ipynb",
      "provenance": [],
      "authorship_tag": "ABX9TyMFYhABChFnHqOeeqe2u78N",
      "include_colab_link": true
    },
    "kernelspec": {
      "name": "python3",
      "display_name": "Python 3"
    },
    "language_info": {
      "name": "python"
    }
  },
  "cells": [
    {
      "cell_type": "markdown",
      "metadata": {
        "id": "view-in-github",
        "colab_type": "text"
      },
      "source": [
        "<a href=\"https://colab.research.google.com/github/victorious07/python_programming/blob/master/monkey_patching.ipynb\" target=\"_parent\"><img src=\"https://colab.research.google.com/assets/colab-badge.svg\" alt=\"Open In Colab\"/></a>"
      ]
    },
    {
      "cell_type": "markdown",
      "source": [
        "##**Monkey Patching**"
      ],
      "metadata": {
        "id": "9x8P4Jhn2Guo"
      }
    },
    {
      "cell_type": "markdown",
      "source": [
        "<font color ='green'>**In Python, the term monkey patch refers to dynamic (or run-time) modifications of a class or module. In Python, we can actually change the behavior of code at run-time**.</font><br>\n",
        "*source : GeeksforGeeks*"
      ],
      "metadata": {
        "id": "Vomx6GKj1juG"
      }
    },
    {
      "cell_type": "markdown",
      "source": [
        "**Example:**"
      ],
      "metadata": {
        "id": "8kgm5vsU2nYH"
      }
    },
    {
      "cell_type": "code",
      "execution_count": null,
      "metadata": {
        "id": "Nx08VDHQwzAs"
      },
      "outputs": [],
      "source": [
        "class monkey_patching:\n",
        "  def __init__(self,x,y):\n",
        "    self.x = x\n",
        "    self.y = y\n",
        "\n",
        "  def get_data(self):\n",
        "    print(\"Area of Rectangle: \", self.x * self.y)\n",
        "\n",
        "  def test1(self):\n",
        "    self.get_data()\n",
        "\n",
        "  def test2(self):\n",
        "    self.get_data()         "
      ]
    },
    {
      "cell_type": "code",
      "source": [
        "mp = monkey_patching(10,20)\n",
        "print(\"Before Monkey Patching\\n\")\n",
        "mp.test1()\n",
        "mp.test2()"
      ],
      "metadata": {
        "colab": {
          "base_uri": "https://localhost:8080/"
        },
        "id": "8RW5lZWHx63x",
        "outputId": "16b74bab-ebfb-4f7c-ec4f-974d8789e318"
      },
      "execution_count": null,
      "outputs": [
        {
          "output_type": "stream",
          "name": "stdout",
          "text": [
            "Before Monkey Patching\n",
            "\n",
            "Area of Rectangle:  200\n",
            "Area of Rectangle:  200\n"
          ]
        }
      ]
    },
    {
      "cell_type": "code",
      "source": [
        "def new_get_data(self):\n",
        "  print(\"Area of Square: \", self.x **2)\n",
        "\n",
        "monkey_patching.get_data = new_get_data           #changing the behaviour of attribute at runtime\n",
        "print(\"After Monkey Patching\\n\")\n",
        "mp.test1()\n",
        "mp.test2()"
      ],
      "metadata": {
        "colab": {
          "base_uri": "https://localhost:8080/"
        },
        "id": "5oNDcQ5lzFdM",
        "outputId": "8a5f0e9c-9513-4d43-ae85-75a283c64818"
      },
      "execution_count": null,
      "outputs": [
        {
          "output_type": "stream",
          "name": "stdout",
          "text": [
            "After Monkey Patching\n",
            "\n",
            "Area of Square:  100\n",
            "Area of Square:  100\n"
          ]
        }
      ]
    }
  ]
}